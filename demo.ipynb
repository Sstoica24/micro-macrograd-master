{
 "cells": [
  {
   "cell_type": "code",
   "execution_count": 1,
   "metadata": {},
   "outputs": [],
   "source": [
    "import random\n",
    "import numpy as np\n",
    "import matplotlib.pyplot as plt\n",
    "%matplotlib inline"
   ]
  },
  {
   "cell_type": "markdown",
   "metadata": {},
   "source": [
    "###  MicroGrad demo"
   ]
  },
  {
   "cell_type": "code",
   "execution_count": 2,
   "metadata": {},
   "outputs": [],
   "source": [
    "from micrograd.engine import Value\n",
    "from micrograd.nn import Neuron, Layer, MLP"
   ]
  },
  {
   "cell_type": "code",
   "execution_count": 2,
   "metadata": {},
   "outputs": [],
   "source": [
    "np.random.seed(1337)\n",
    "random.seed(1337)"
   ]
  },
  {
   "cell_type": "code",
   "execution_count": null,
   "metadata": {},
   "outputs": [],
   "source": [
    "# make up a dataset\n",
    "\n",
    "from sklearn.datasets import make_moons, make_blobs\n",
    "X, y = make_moons(n_samples=100, noise=0.1)\n",
    "\n",
    "y = ((y*2 - 1) > 0).astype(int) # make y be -1 or 1\n",
    "print(y, len(y))\n",
    "# visualize in 2D\n",
    "plt.figure(figsize=(5,5))\n",
    "plt.scatter(X[:,0], X[:,1], c=y, s=20, cmap='jet')"
   ]
  },
  {
   "cell_type": "code",
   "execution_count": null,
   "metadata": {},
   "outputs": [],
   "source": [
    "# initialize a model \n",
    "model = MLP(2, [16, 16, 1]) # 2-layer neural network\n",
    "print(model)\n",
    "print(\"number of parameters\", len(model.parameters()))"
   ]
  },
  {
   "cell_type": "code",
   "execution_count": 13,
   "metadata": {},
   "outputs": [
    {
     "data": {
      "text/plain": [
       "Value(data=-1.0, grad=0)"
      ]
     },
     "execution_count": 13,
     "metadata": {},
     "output_type": "execute_result"
    }
   ],
   "source": [
    "a= Value(2.0)\n",
    "b = Value(-3.0)\n",
    "a + b "
   ]
  },
  {
   "cell_type": "code",
   "execution_count": 17,
   "metadata": {},
   "outputs": [
    {
     "name": "stdout",
     "output_type": "stream",
     "text": [
      "Value(data=1.1281637884148759, grad=0) 0.5\n"
     ]
    }
   ],
   "source": [
    "# loss function\n",
    "def loss(batch_size=None):\n",
    "    \n",
    "    # inline DataLoader :)\n",
    "    if batch_size is None:\n",
    "        Xb, yb = X, y\n",
    "    else:\n",
    "        ri = np.random.permutation(X.shape[0])[:batch_size]\n",
    "        Xb, yb = X[ri], y[ri]\n",
    "    inputs = [list(map(Value, xrow)) for xrow in Xb]\n",
    "    \n",
    "    # forward the model to get scores\n",
    "    scores = list(map(model, inputs))\n",
    "    \n",
    "    # svm \"max-margin\" loss\n",
    "    losses = [(1 + -yi*scorei).relu() for yi, scorei in zip(yb, scores)]\n",
    "    data_loss = sum(losses) * (1.0 / len(losses))\n",
    "    # L2 regularization\n",
    "    alpha = 1e-4\n",
    "    reg_loss = alpha * sum((p*p for p in model.parameters()))\n",
    "    total_loss = data_loss + reg_loss\n",
    "    \n",
    "    # also get accuracy\n",
    "    accuracy = [(yi > 0) == (scorei.data > 0) for yi, scorei in zip(yb, scores)]\n",
    "    return total_loss, sum(accuracy) / len(accuracy)\n",
    "\n",
    "total_loss, acc = loss()\n",
    "print(total_loss, acc)"
   ]
  },
  {
   "cell_type": "code",
   "execution_count": null,
   "metadata": {},
   "outputs": [],
   "source": [
    "# optimization\n",
    "for k in range(100):\n",
    "    \n",
    "    # forward\n",
    "    total_loss, acc = loss()\n",
    "    \n",
    "    # backward\n",
    "    model.zero_grad()\n",
    "    total_loss.backward()\n",
    "    \n",
    "    # update (sgd)\n",
    "    learning_rate = 1.0 - 0.9*k/100\n",
    "    for p in model.parameters():\n",
    "        p.data -= learning_rate * p.grad\n",
    "    \n",
    "    if k % 1 == 0:\n",
    "        print(f\"step {k} loss {total_loss.data}, accuracy {acc*100}%\")"
   ]
  },
  {
   "cell_type": "code",
   "execution_count": null,
   "metadata": {},
   "outputs": [
    {
     "data": {
      "text/plain": [
       "(-1.548639298268643, 1.951360701731357)"
      ]
     },
     "execution_count": 8,
     "metadata": {},
     "output_type": "execute_result"
    },
    {
     "data": {
      "image/png": "[encoded data removed]",
      "text/plain": [
       "<Figure size 432x288 with 1 Axes>"
      ]
     },
     "metadata": {},
     "output_type": "display_data"
    }
   ],
   "source": [
    "# visualize decision boundary\n",
    "\n",
    "h = 0.25\n",
    "x_min, x_max = X[:, 0].min() - 1, X[:, 0].max() + 1\n",
    "y_min, y_max = X[:, 1].min() - 1, X[:, 1].max() + 1\n",
    "xx, yy = np.meshgrid(np.arange(x_min, x_max, h),\n",
    "                     np.arange(y_min, y_max, h))\n",
    "Xmesh = np.c_[xx.ravel(), yy.ravel()]\n",
    "inputs = [list(map(Value, xrow)) for xrow in Xmesh]\n",
    "scores = list(map(model, inputs))\n",
    "Z = np.array([s.data > 0 for s in scores])\n",
    "Z = Z.reshape(xx.shape)\n",
    "\n",
    "fig = plt.figure()\n",
    "plt.contourf(xx, yy, Z, cmap=plt.cm.Spectral, alpha=0.8)\n",
    "plt.scatter(X[:, 0], X[:, 1], c=y, s=40, cmap=plt.cm.Spectral)\n",
    "plt.xlim(xx.min(), xx.max())\n",
    "plt.ylim(yy.min(), yy.max())\n"
   ]
  },
  {
   "cell_type": "markdown",
   "metadata": {},
   "source": [
    "# MNIST with macrograd"
   ]
  },
  {
   "cell_type": "code",
   "execution_count": 2,
   "metadata": {},
   "outputs": [],
   "source": [
    "# don't even use pytorch\n",
    "\n",
    "import torch  # install pytorch and then download MNIST\n",
    "from torchvision import datasets, transforms\n",
    "\n",
    "# transform example said to do: https://github.com/pytorch/examples/blob/main/mnist/main.py#L7\n",
    "transform=transforms.Compose([\n",
    "        transforms.ToTensor(),\n",
    "        transforms.Normalize((0.1307,), (0.3081,))\n",
    "        ])\n",
    "\n",
    "mnist_trainset = datasets.MNIST(root='./data', train=True, download=True, transform=transform)\n",
    "mnist_testset = datasets.MNIST(root='./data', train=False, download=True, transform=transform)"
   ]
  },
  {
   "cell_type": "code",
   "execution_count": null,
   "metadata": {},
   "outputs": [],
   "source": [
    "# flatten the images\n",
    "def flatten_images(images_array):\n",
    "    prod = 1\n",
    "    shape_of_arr = list(images_array.shape)\n",
    "    for i in range(1, len(shape_of_arr)):\n",
    "        prod *= shape_of_arr[i]\n",
    "    return images_array.reshape(images_array.shape[0], prod)\n",
    "\n",
    "mnist_trainset.data = flatten_images(mnist_trainset.data)\n",
    "mnist_testset.data = flatten_images(mnist_testset.data)\n",
    "\n",
    "print(f\"{len(mnist_trainset) = }\")\n",
    "print(f\"{len(mnist_testset) = }\")\n",
    "print(f\"{mnist_trainset.data.shape = }\")\n",
    "print(f\"{mnist_trainset[0] = }\")\n",
    "print(f\"{mnist_trainset.targets[0] = }\")\n",
    "print(f\"{mnist_testset.data.shape = }\")\n",
    "\n",
    "b_s = 825\n",
    "\n",
    "train_loader = torch.utils.data.DataLoader(mnist_trainset, batch_size=b_s, shuffle=True)\n",
    "test_loader = torch.utils.data.DataLoader(mnist_testset, batch_size=b_s, shuffle=False)\n",
    "\n",
    "\n"
   ]
  },
  {
   "cell_type": "code",
   "execution_count": 3,
   "metadata": {},
   "outputs": [],
   "source": [
    "from macrograd.engine import Tensor\n",
    "from macrograd.nn import Layer, MLP_macro"
   ]
  },
  {
   "cell_type": "code",
   "execution_count": null,
   "metadata": {},
   "outputs": [],
   "source": [
    "model = MLP_macro(2, [10, 10, 10, 2]) # 2-layer neural network\n",
    "# print(model)\n",
    "# print(\"number of parameters\", len(model.parameters()))"
   ]
  },
  {
   "cell_type": "code",
   "execution_count": 5,
   "metadata": {},
   "outputs": [],
   "source": [
    "np.random.seed(1337)\n",
    "random.seed(1337)"
   ]
  },
  {
   "cell_type": "code",
   "execution_count": null,
   "metadata": {},
   "outputs": [],
   "source": [
    "# before: b_s = 840, layers: [16, 10, 10]\n",
    "model = MLP_macro(28*28, [16, 10, 10]) # 2-layer neural network\n",
    "# print(model)\n",
    "# print(model)\n",
    "# print(\"number of parameters\", len(model.parameters()))"
   ]
  },
  {
   "cell_type": "code",
   "execution_count": 5,
   "metadata": {},
   "outputs": [],
   "source": [
    "def loss(probs, y_batch):\n",
    "    # get the predicted classes\n",
    "    losses = probs.cross_entropy_loss(y_batch)\n",
    "    \n",
    "    # L2 regularization\n",
    "    # alpha = 1e-4\n",
    "    # reg_loss = alpha * sum([(p.array*p.array).sum() for p in model.parameters()])\n",
    "    total_loss = losses # + Tensor(reg_loss)\n",
    "    \n",
    "    # also get accuracy\n",
    "    m = len(y_batch.array)\n",
    "    scores = np.argmax(probs.array, axis = 1, keepdims=True)\n",
    "    accuracy = np.sum(y_batch.array == scores)/ len(y_batch.array)\n",
    "    # accuracy = [(yi > 0) == (scorei.data > 0) for yi, scorei in zip(y_batch.array, scores.array)]\n",
    "    return total_loss, accuracy\n"
   ]
  },
  {
   "cell_type": "code",
   "execution_count": 6,
   "metadata": {},
   "outputs": [
    {
     "name": "stdout",
     "output_type": "stream",
     "text": [
      "preds are [[1 1 1 1 1 1 1 0 0 0 0 0 1 1 1 1]], should be [[0 1 1 1 0 0 1 0 0 0 0 0 1 1 0 0]]\n",
      "step 0 loss 0.6568939328297059, accuracy 68.75%\n",
      "preds are [[1 1 1 1 1 1 0 0 1 1 0 0 1 1 1 1]], should be [[1 1 1 0 0 1 1 0 1 1 0 0 0 1 1 1]]\n",
      "step 10 loss 0.5329833282174088, accuracy 75.0%\n",
      "preds are [[0 0 0 0 0 1 0 1 1 1 1 0 1 1 1 1]], should be [[0 0 1 0 0 1 0 1 0 0 1 0 1 1 1 1]]\n",
      "step 20 loss 0.5939082311293535, accuracy 81.25%\n",
      "preds are [[1 1 0 0 1 0 1 0 1 0 0 0 1 1 1 1]], should be [[1 0 0 0 1 1 0 0 0 0 0 1 0 0 1 0]]\n",
      "step 30 loss 0.7544101077502428, accuracy 50.0%\n",
      "preds are [[1 1 1 1 1 0 1 1 1 1 1 1 1 1 1 1]], should be [[1 1 0 0 0 0 0 0 0 1 1 1 0 0 1 1]]\n",
      "step 40 loss 0.7844677259268933, accuracy 50.0%\n",
      "preds are [[0 1 1 0 0 0 1 1 0 1 1 1 1 1 1 0]], should be [[0 1 1 0 0 0 0 1 0 1 1 1 1 1 0 0]]\n",
      "step 50 loss 0.4606521804444407, accuracy 87.5%\n"
     ]
    }
   ],
   "source": [
    "def train(X, y, epochs, batch_size):\n",
    "    for k in range(epochs):\n",
    "        # X_batch_array = mnist_trainset.data[: 64]\n",
    "        # y_batch_array = mnist_trainset.targets[: 64]\n",
    "        # for images, labels in train_loader:\n",
    "        #     X_batch_array = images.numpy()\n",
    "        #     X_batch_array = flatten_images(X_batch_array)\n",
    "        #     y_batch_array = labels.numpy()\n",
    "        #     y_batch_array = flatten_images(y_batch_array)\n",
    "\n",
    "        # X_batch = Tensor(X_batch_array)\n",
    "        # y_batch = Tensor(y_batch_array)\n",
    "            # inline DataLoader :)\n",
    "        if batch_size is None:\n",
    "            X_batch, y_batch = X, y\n",
    "        else:\n",
    "            ri = np.random.permutation(X.shape[0])[:batch_size]\n",
    "            X_batch, y_batch = X[ri], y[ri]\n",
    "        inputs = Tensor(np.array([xrow for xrow in X_batch]))\n",
    "        y_batch = Tensor(np.array(y_batch).reshape(-1, 1))\n",
    "\n",
    "        # print(f\"{inputs.array.shape = }\")\n",
    "        # print(f\"{y_batch.array.shape = }\")\n",
    "\n",
    "        # forward the model to get scores\n",
    "        scores = model(inputs)\n",
    "        # forward\n",
    "        total_loss, acc = loss(scores, y_batch)\n",
    "        \n",
    "        # backward\n",
    "        model.zero_grad()\n",
    "        total_loss.backward()\n",
    "\n",
    "        # update (sgd)\n",
    "        # finetune the learning rate. harcoded decay: at step 30, decreasee the lr. at step 70 decrease lr. \n",
    "        # this way you force the model to local minimum\n",
    "        learning_rate = 0.001\n",
    "        for p in model.parameters():\n",
    "            # print(f\"{np.linalg.norm(p.grad) = }\")\n",
    "            p.array -= learning_rate * 1/ batch_size * p.grad\n",
    "        \n",
    "        if k % 10 == 0:\n",
    "            preds = np.argmax(scores.array, axis = 1)\n",
    "            print(f\"preds are {preds.reshape(1, -1)}, should be {y_batch.array.reshape(1, -1)}\")\n",
    "            print(f\"step {k} loss {total_loss.array}, accuracy {acc*100}%\")\n",
    "train(X, y, 60, 16)\n"
   ]
  },
  {
   "cell_type": "code",
   "execution_count": 8,
   "metadata": {},
   "outputs": [
    {
     "name": "stdout",
     "output_type": "stream",
     "text": [
      "step 0 loss 2.6028102974963074, accuracy 12.916666666666668%\n",
      "step 10 loss 2.7473055628969463, accuracy 10.416666666666668%\n",
      "step 20 loss 2.8737675771514555, accuracy 14.166666666666666%\n"
     ]
    }
   ],
   "source": [
    "def train(epochs):\n",
    "    for k in range(epochs):\n",
    "        # X_batch_array = mnist_trainset.data[: 64]\n",
    "        # y_batch_array = mnist_trainset.targets[: 64]\n",
    "        # i = 0\n",
    "        for images, labels in train_loader:\n",
    "            # i += 1\n",
    "            # if i == 55 and k == 8:\n",
    "            #     import pdb; pdb.set_trace()\n",
    "            # print(f\"{i =} and {k = }\")\n",
    "            X_batch_array = images.numpy()\n",
    "            X_batch_array = flatten_images(X_batch_array)\n",
    "            y_batch_array = labels.numpy()\n",
    "            y_batch_array = flatten_images(y_batch_array)\n",
    "\n",
    "            X_batch = Tensor(X_batch_array)\n",
    "            y_batch = Tensor(y_batch_array)\n",
    "            # inline DataLoader :)\n",
    "            # if batch_size is None:\n",
    "            #     X_batch, y_batch = X, y\n",
    "            # else:\n",
    "            #     ri = np.random.permutation(X.shape[0])[:batch_size]\n",
    "            #     X_batch, y_batch = X[ri], y[ri]\n",
    "            # inputs = Tensor(np.array([xrow for xrow in X_batch]))\n",
    "            # y_batch = Tensor(np.array(y_batch).reshape(-1, 1))\n",
    "\n",
    "            # print(f\"{inputs.array.shape = }\")\n",
    "            # print(f\"{y_batch.array.shape = }\")\n",
    "\n",
    "            # forward the model to get scores\n",
    "            inputs = X_batch\n",
    "            scores = model(inputs)\n",
    "\n",
    "            # forward\n",
    "            total_loss, acc = loss(scores, y_batch)\n",
    "            \n",
    "            # backward\n",
    "            model.zero_grad()\n",
    "            total_loss.backward()\n",
    "\n",
    "            # update (sgd)\n",
    "            # finetune the learning rate. harcoded decay: at step 30, decreasee the lr. at step 70 decrease lr. \n",
    "            # this way you force the model to local minimum\n",
    "            learning_rate = 0.0001\n",
    "            batch_size = scores.array.shape[0]\n",
    "            for p in model.parameters():\n",
    "                # print(f\"{np.linalg.norm(p.grad) = }\")\n",
    "                p.array -= learning_rate * 1/ batch_size * p.grad\n",
    "        \n",
    "        if k % 10 == 0:\n",
    "            preds = np.argmax(scores.array, axis = 1, keepdims=True)\n",
    "            # print(f\"preds are {preds.reshape(1, -1)}, should be {y_batch.array.reshape(1, -1)}\")\n",
    "            print(f\"step {k} loss {total_loss.array}, accuracy {acc*100}%\")\n",
    "train(30)\n"
   ]
  },
  {
   "cell_type": "code",
   "execution_count": 8,
   "metadata": {},
   "outputs": [
    {
     "name": "stdout",
     "output_type": "stream",
     "text": [
      "step 0 loss 2.50002134578522, accuracy 14.399999999999999%\n",
      "step 10 loss 2.7324889299668187, accuracy 10.2%\n",
      "step 20 loss 2.789750624078462, accuracy 12.6%\n",
      "step 30 loss 4.312672092820764, accuracy 14.2%\n"
     ]
    }
   ],
   "source": [
    "def train(epochs):\n",
    "    for k in range(epochs):\n",
    "        # X_batch_array = mnist_trainset.data[: 64]\n",
    "        # y_batch_array = mnist_trainset.targets[: 64]\n",
    "        i = 0\n",
    "        for images, labels in train_loader:\n",
    "            i += 1\n",
    "            # if i == 241 and k == 3:\n",
    "            #     import pdb; pdb.set_trace()\n",
    "            # print(f\"{i =} and {k = }\")\n",
    "            X_batch_array = images.numpy()\n",
    "            X_batch_array = flatten_images(X_batch_array)\n",
    "            y_batch_array = labels.numpy()\n",
    "            y_batch_array = flatten_images(y_batch_array)\n",
    "\n",
    "            X_batch = Tensor(X_batch_array)\n",
    "            y_batch = Tensor(y_batch_array)\n",
    "            # inline DataLoader :)\n",
    "            # if batch_size is None:\n",
    "            #     X_batch, y_batch = X, y\n",
    "            # else:\n",
    "            #     ri = np.random.permutation(X.shape[0])[:batch_size]\n",
    "            #     X_batch, y_batch = X[ri], y[ri]\n",
    "            # inputs = Tensor(np.array([xrow for xrow in X_batch]))\n",
    "            # y_batch = Tensor(np.array(y_batch).reshape(-1, 1))\n",
    "\n",
    "            # print(f\"{inputs.array.shape = }\")\n",
    "            # print(f\"{y_batch.array.shape = }\")\n",
    "\n",
    "            # forward the model to get scores\n",
    "            inputs = X_batch\n",
    "            scores = model(inputs)\n",
    "\n",
    "            # forward\n",
    "            total_loss, acc = loss(scores, y_batch)\n",
    "            \n",
    "            # backward\n",
    "            model.zero_grad()\n",
    "            total_loss.backward()\n",
    "\n",
    "            # update (sgd)\n",
    "            # finetune the learning rate. harcoded decay: at step 30, decreasee the lr. at step 70 decrease lr. \n",
    "            # this way you force the model to local minimum\n",
    "            learning_rate = 0.0001\n",
    "            batch_size = scores.array.shape[0]\n",
    "            for p in model.parameters():\n",
    "                # print(f\"{np.linalg.norm(p.grad) = }\")\n",
    "                p.array -= learning_rate * 1/ batch_size * p.grad\n",
    "        \n",
    "        if k % 10 == 0:\n",
    "            preds = np.argmax(scores.array, axis = 1, keepdims=True)\n",
    "            # print(f\"preds are {preds.reshape(1, -1)}, should be {y_batch.array.reshape(1, -1)}\")\n",
    "            print(f\"step {k} loss {total_loss.array}, accuracy {acc*100}%\")\n",
    "train(40)\n"
   ]
  },
  {
   "cell_type": "markdown",
   "metadata": {},
   "source": [
    "In both examples above model is becoming less sure although accuracy is increasing. Potential overfitting."
   ]
  },
  {
   "cell_type": "markdown",
   "metadata": {},
   "source": [
    "Model, though, works great for make_moons dataset example:"
   ]
  },
  {
   "cell_type": "code",
   "execution_count": 7,
   "metadata": {},
   "outputs": [
    {
     "name": "stdout",
     "output_type": "stream",
     "text": [
      "step 0 loss 0.7444832666430352, accuracy 62.5%\n",
      "step 10 loss 0.574332805878023, accuracy 87.5%\n",
      "step 20 loss 0.5947291601337513, accuracy 87.5%\n",
      "step 30 loss 0.6764941334948852, accuracy 75.0%\n"
     ]
    }
   ],
   "source": [
    "def train(X, y, epochs, batch_size):\n",
    "    for k in range(epochs):\n",
    "        # X_batch_array = mnist_trainset.data[: 64]\n",
    "        # y_batch_array = mnist_trainset.targets[: 64]\n",
    "        # for images, labels in train_loader:\n",
    "        #     X_batch_array = images.numpy()\n",
    "        #     X_batch_array = flatten_images(X_batch_array)\n",
    "        #     y_batch_array = labels.numpy()\n",
    "        #     y_batch_array = flatten_images(y_batch_array)\n",
    "\n",
    "        # X_batch = Tensor(X_batch_array)\n",
    "        # y_batch = Tensor(y_batch_array)\n",
    "            # inline DataLoader :)\n",
    "        if batch_size is None:\n",
    "            X_batch, y_batch = X, y\n",
    "        else:\n",
    "            ri = np.random.permutation(X.shape[0])[:batch_size]\n",
    "            X_batch, y_batch = X[ri], y[ri]\n",
    "        inputs = Tensor(np.array([xrow for xrow in X_batch]))\n",
    "        y_batch = Tensor(np.array(y_batch).reshape(-1, 1))\n",
    "\n",
    "        # print(f\"{inputs.array.shape = }\")\n",
    "        # print(f\"{y_batch.array.shape = }\")\n",
    "\n",
    "        # forward the model to get scores\n",
    "        scores = model(inputs)\n",
    "        # forward\n",
    "        total_loss, acc = loss(scores, y_batch)\n",
    "        \n",
    "        # backward\n",
    "        model.zero_grad()\n",
    "        total_loss.backward()\n",
    "\n",
    "        # update (sgd)\n",
    "        # finetune the learning rate. harcoded decay: at step 30, decreasee the lr. at step 70 decrease lr. \n",
    "        # this way you force the model to local minimum\n",
    "        learning_rate = 0.001\n",
    "        for p in model.parameters():\n",
    "            # print(f\"{np.linalg.norm(p.grad) = }\")\n",
    "            p.array -= learning_rate * 1/ batch_size * p.grad\n",
    "        \n",
    "        if k % 10 == 0:\n",
    "            # print(f\"preds are {scores.array.reshape(1, -1)}, should be {y_batch.array.reshape(1, -1)}\")\n",
    "            print(f\"step {k} loss {total_loss.array}, accuracy {acc*100}%\")\n",
    "train(X, y, 40, 16)\n"
   ]
  },
  {
   "cell_type": "code",
   "execution_count": null,
   "metadata": {},
   "outputs": [],
   "source": [
    "\n",
    "import numpy as np\n",
    "Y = Tensor(np.array([1, 0, 2, 1, 2]).reshape(-1, 1))\n",
    "p = np.array([[0.7, 0.2, 0.1],\n",
    "              [0.3, 0.5, 0.2],\n",
    "              [0.6, 0.1, 0.3], \n",
    "              [0.4, 0.5, 0.1],\n",
    "              [0.1, 0.2, 0.7]\n",
    "              ])\n",
    "print(f\"{p = }\")\n",
    "# y_batch = Y\n",
    "# scores = np.argmax(p, axis = 1, keepdims=True)\n",
    "# print(scores.shape)\n",
    "# accuracy = np.sum(y_batch.array == scores)/ len(y_batch.array)\n",
    "# print(accuracy)\n",
    "# m = Y.array.shape[0]\n",
    "# labels = np.zeros((m, p.shape[1])).astype(int)\n",
    "# labels[range(m), Y.array.flatten()] = 1\n",
    "# print(p - labels)\n",
    "# # formula for cross_entropy_loss\n",
    "# loss = labels * np.log(p)\n",
    "# loss = -np.sum(loss) / m\n",
    "# print(loss)\n",
    "# scores = np.argmax(p, axis = 1, keepdims=True)\n",
    "# accuracy = np.sum(Y.array == scores)/ len(Y.array)\n",
    "# print(accuracy)\n",
    "# # get one_hot encoding of labels\n",
    "\n",
    "# m = Y.array.shape[0]\n",
    "# labels = np.zeros((m, p.shape[1])).astype(int)\n",
    "# labels[range(m), Y.array.flatten()] = 1\n",
    "\n",
    "# # formula for cross_entropy_loss\n",
    "# loss = labels * np.log(p)\n",
    "# loss = -np.sum(loss) / m\n",
    "# print(loss)\n",
    "\n",
    "# m = Y.array.shape[0]\n",
    "\n",
    "# # get one_hot encoding of labels\n",
    "# labels = np.zeros((m, p.shape[1])).astype(int)\n",
    "# labels[range(m), Y.array.flatten()] = 1\n",
    "\n",
    "# # formula for cross_entropy_loss\n",
    "# loss = labels * np.log(p)\n",
    "# loss = -np.sum(loss) / m\n",
    "# print(f\"{loss = }\")\n",
    "\n",
    "sum_elems = 0\n",
    "for row in range(m):\n",
    "    sum_elems += np.log(p[row][Y.array[row]])\n",
    "print(f\"{sum_elems / m} = \")\n",
    "\n",
    "print(loss == -sum_elems / m)\n",
    "\n",
    "\n",
    "# self has already recieved softmax\n",
    "# p[range(m), labels.array] does p[i][tru_labels[i]] for every row i\n",
    "# log_likelihood = -np.log(p[range(m), labels])\n",
    "# loss = np.sum(log_likelihood) / m\n",
    "# print(loss)"
   ]
  },
  {
   "cell_type": "code",
   "execution_count": null,
   "metadata": {},
   "outputs": [],
   "source": []
  }
 ],
 "metadata": {
  "kernelspec": {
   "display_name": "Python 3",
   "language": "python",
   "name": "python3"
  },
  "language_info": {
   "codemirror_mode": {
    "name": "ipython",
    "version": 3
   },
   "file_extension": ".py",
   "mimetype": "text/x-python",
   "name": "python",
   "nbconvert_exporter": "python",
   "pygments_lexer": "ipython3",
   "version": "3.12.2"
  }
 },
 "nbformat": 4,
 "nbformat_minor": 2
}
